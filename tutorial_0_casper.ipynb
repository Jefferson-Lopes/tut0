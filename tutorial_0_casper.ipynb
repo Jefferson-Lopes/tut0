{
 "cells": [
  {
   "cell_type": "markdown",
   "metadata": {},
   "source": [
    "# Tutorial 0: some basic introduction in astronomy signal processing\n",
    "\n",
    "### This tutorial is intended for readers who are new to astronomy signal processing. If you already have a lot of experience on it,  you can go directly to [tutorial 1](https://casper.berkeley.edu/wiki/Introduction_to_Simulink_ROACH2) for CASPER FPGA design and implementation.\n",
    "### In this tutorial, you will learn some fundamental digital signal processing theory and how it works on astronomy signals. Following are some blocks we use very often. We'll give you some basic conceptions and corresponding python codes to help you easily understand what these blocks are really doing.\n",
    "### [Analog-to-Digital Converter(ADC)](ADC.ipynb)\n",
    "### [Polyphase Filter Bank(PFB)](PFB.ipynb)\n",
    "### [Fourier Tranformation(FFT)](FFT.ipynb)\n",
    "### [Correlation](Corr.ipynb)\n",
    "### [Accumulation](Accu.ipynb)"
   ]
  },
  {
   "cell_type": "code",
   "execution_count": null,
   "metadata": {},
   "outputs": [],
   "source": []
  }
 ],
 "metadata": {
  "kernelspec": {
   "display_name": "Python 3",
   "language": "python",
   "name": "python3"
  },
  "language_info": {
   "codemirror_mode": {
    "name": "ipython",
    "version": 3
   },
   "file_extension": ".py",
   "mimetype": "text/x-python",
   "name": "python",
   "nbconvert_exporter": "python",
   "pygments_lexer": "ipython3",
   "version": "3.5.2"
  }
 },
 "nbformat": 4,
 "nbformat_minor": 2
}
